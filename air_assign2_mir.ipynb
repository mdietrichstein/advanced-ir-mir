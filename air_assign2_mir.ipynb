{
 "cells": [
  {
   "cell_type": "markdown",
   "metadata": {},
   "source": [
    "<center>\n",
    "<h1>188.980 Advanced Information Retrieval</h1>\n",
    "<h2>Assignment 2 - Music IR</h2>\n",
    "</center>"
   ]
  },
  {
   "cell_type": "markdown",
   "metadata": {
    "run_control": {
     "marked": false
    }
   },
   "source": [
    "**Group Number: 06**\n",
    "\n",
    "* **Group members:**\n",
    " * **Full Name: Marian Amann**\n",
    "   * *Matrikelnummer: 01226913*\n",
    "   * *Studienkennzahl: 937*\n",
    " * **Full Name: Marc Dietrichstein**\n",
    "   * *Matrikelnummer: 0327606*\n",
    "   * *Studienkennzahl: 936*"
   ]
  },
  {
   "cell_type": "markdown",
   "metadata": {},
   "source": [
    "# Introduction\n",
    "\n",
    "The aim of this exercise is to get insights into music information retrieval practices. You will follow a content based approach which is based on the idea that the semantically relevant information is provided in the audio itself. Thus the aim is to identify and extract this information in a meaningful representation. "
   ]
  },
  {
   "cell_type": "code",
   "execution_count": 1,
   "metadata": {
    "ExecuteTime": {
     "end_time": "2017-05-15T23:32:43.591000",
     "start_time": "2017-05-15T23:32:43.496000"
    }
   },
   "outputs": [],
   "source": [
    "%load_ext autoreload\n",
    "%autoreload 2\n",
    "\n",
    "# plotting functions\n",
    "%matplotlib inline\n",
    "import matplotlib\n",
    "import matplotlib.pyplot as plt\n",
    "\n",
    "import os              # access to operating system functions\n",
    "import glob            # reg-ex based file-iterator\n",
    "\n",
    "# scientific computing\n",
    "import numpy as np     # numerical computing\n",
    "import pandas as pd    # powerful data processing library\n",
    "\n",
    "# audio feature extraction\n",
    "import librosa\n",
    "from rp_extract import rp_extract\n",
    "\n",
    "# machine learning\n",
    "from sklearn.preprocessing import LabelEncoder, StandardScaler\n",
    "from sklearn.model_selection import StratifiedKFold\n",
    "from sklearn.svm import LinearSVC\n",
    "\n",
    "from utility_functions import show_classification_results, plot_confusion_matrix, show_query_results\n",
    "\n",
    "# misc\n",
    "import itertools\n",
    "import progressbar\n",
    "\n",
    "import warnings as w\n",
    "w.simplefilter(action = 'ignore', category = DeprecationWarning)\n",
    "w.simplefilter(action = 'ignore', category = FutureWarning)\n",
    "w.simplefilter(action = 'ignore', category = UserWarning)"
   ]
  },
  {
   "cell_type": "markdown",
   "metadata": {},
   "source": [
    "# Prepare your data\n",
    "\n",
    "First, please download the specified data-set, extract it locally to your hardisk and specify the full-path to the extracted directory to the *AUDIO_COLLECTION_PATH* variable below"
   ]
  },
  {
   "cell_type": "code",
   "execution_count": 2,
   "metadata": {
    "ExecuteTime": {
     "end_time": "2017-05-15T23:13:48.264000",
     "start_time": "2017-05-15T23:13:48.186000"
    }
   },
   "outputs": [],
   "source": [
    "AUDIO_COLLECTION_PATH = \"./data/genres/\""
   ]
  },
  {
   "cell_type": "markdown",
   "metadata": {},
   "source": [
    "**Prepare file-lists and ground-truth labels**\n",
    "\n",
    "Define the collection of files to process and the corresponding class labels which is also known as *ground truth*.\n",
    "\n",
    "* create a list of filenames and a list of corresponding labels\n",
    "  * e.g. use [glob](https://docs.python.org/2/library/glob.html) to iterate over the class directories in the music collection\n",
    "  * use the names of the subdirectories as label names\n",
    "  * iterate through all class directories and get all filenames with the extension '.mp3'\n",
    "  * store the filename and its corresponding label in the two lists *filenames* and *labels*\n",
    "  \n",
    "Take care that both lists are synchronously aligned and that each label corresponds to the right filename."
   ]
  },
  {
   "cell_type": "code",
   "execution_count": 3,
   "metadata": {
    "ExecuteTime": {
     "end_time": "2017-05-15T23:13:48.642000",
     "start_time": "2017-05-15T23:13:48.568000"
    }
   },
   "outputs": [],
   "source": [
    "# fill these lists with values\n",
    "filenames = []\n",
    "labels    = []"
   ]
  },
  {
   "cell_type": "code",
   "execution_count": 4,
   "metadata": {
    "ExecuteTime": {
     "end_time": "2017-05-15T23:13:49.505000",
     "start_time": "2017-05-15T23:13:49.408000"
    }
   },
   "outputs": [],
   "source": [
    "# add your code here\n",
    "for filepath in glob.glob(AUDIO_COLLECTION_PATH + '/**/*.au'):\n",
    "    label = filepath.replace(AUDIO_COLLECTION_PATH,'').split('/')[0]\n",
    "    \n",
    "    filenames.append(filepath)\n",
    "    labels.append(label)"
   ]
  },
  {
   "cell_type": "markdown",
   "metadata": {},
   "source": [
    "# Music Feature Extraction\n",
    "\n",
    "*Feature extraction* is a crucial part of content-based approaches. The goal is to transform and reduce the information provided by the digital audio signal into a set of semantically descriptive numbers. A typical CD quality mainstream radio track has an average length of three minutes. This means, that song is digitally described in Pulse-code Modulation (PCM) by 15.9 million numbers (3 [minutes] x 60 [seconds] x 2 [stereo channels] x 44100 [sampling rate]). Using CD-quality 16bit encoding this information requires 30.3MB of memory. Besides music specific reasons, the computational obstacles concerned with processing of huge music collections make raw audio processing a suboptimal solution. Feature design and implementation tries to overcome technological obstacles of digital audio and to extract essential music properties that can be used to analyze, compare or classify music. \n",
    "\n",
    "You will use the common music features are descriptors for timbre \\cite{logan2000mel}, rhythm \\cite{lidy10_ethnic} or general spectral properties \\cite{tzanetakis2000marsyas,lartillot2007matlab}."
   ]
  },
  {
   "cell_type": "code",
   "execution_count": 5,
   "metadata": {
    "ExecuteTime": {
     "end_time": "2017-05-15T23:13:50.663000",
     "start_time": "2017-05-15T23:13:50.589000"
    }
   },
   "outputs": [],
   "source": [
    "# Fill these lists with values\n",
    "audio_features = {}\n",
    "audio_features[\"mfcc\"]   = []\n",
    "audio_features[\"chroma\"] = []\n",
    "audio_features[\"ssd\"]    = []\n",
    "audio_features[\"rp\"]     = []"
   ]
  },
  {
   "cell_type": "markdown",
   "metadata": {},
   "source": [
    "\n",
    "\n",
    "* iterate over all audio files\n",
    "    1. load audio data using the [librosa.core.load](http://librosa.github.io/librosa/generated/librosa.core.load.html) function. The feature extractors you will use expect a mono signal as input, so take care to appropriately load or convert the audio data.<br><br>\n",
    "    2. extract music features<br><br>\n",
    "        2.1. [Mel-frequency cepstral coefficients (MFCC)](http://librosa.github.io/librosa/generated/librosa.feature.mfcc.html) (librosa): extract 12 coefficients using a FFT-window size of 1024 samples with 50% overlap (this corresponds to a hop-length of 512 samples). To correctly calculate the coefficients the samplerate of the audio file has to be provided.<br>\n",
    "         2.2. [Pitch-classes / Chroma](http://librosa.github.io/librosa/generated/librosa.feature.chroma_stft.html) (librosa): extract the chroma features using a FFT-window size of 1024 samples with 50% overlap, similar to the MFCCs. Also supply the correct samplerate.<br>\n",
    "         2.3. The features extracted using the libros-library are provided on a frame-level. They are calculated for each FFT-window and thus the results are lists of feature vectors. The machine learning algorithms you will be using expect a single-vector per instance. Thus, the extracted feature vectors need to be aggregated into a single-vector representation. You will be using the simple approach of just calculating their mean and standard-deviations. Perform the following operations for the *MFCC* and *chroma* features:\n",
    "      * use the numpy functions *mean* and *std* to calculate the statistical moments of the extracted features along the appropriate axis.\n",
    "      * use the numpy function *concatenate* to concatenate the statistical moments into a single vector\n",
    "  \n",
    "    2.4. *Statistical Spectrum Descriptors* and *Rhythm Patterns*: use the following code to extract the psychoaccoustic feature-sets. The function returns a dictionary of extracted features. The Statistical Spectrum Descriptors are stored using the key 'ssd' and the Rhythm Patterns using the key 'rp'. The features are already single vectors so no post-processing is required.\n",
    "\n",
    "                rp_features = rp_extract(wave_data, \n",
    "                                         samplerate, \n",
    "                                         extract_ssd = True, \n",
    "                                         extract_rp  = True,\n",
    "                                         skip_leadin_fadeout = 0, \n",
    "                                         verbose     = False)\n",
    "\n",
    "    3. append the extracted features to the dictionary embedded lists which are provided above.<br><br>\n",
    "    4. finally iterate over the dictionary keys and convert the lists of extracted feature-vectors into feature-spaces by converting them into numpy arrays using the numpy *asarray* function.\n",
    "\n",
    "  \n",
    "The feature extraction will take about 30 minutes"
   ]
  },
  {
   "cell_type": "code",
   "execution_count": 6,
   "metadata": {
    "ExecuteTime": {
     "end_time": "2017-05-15T22:57:30.406000",
     "start_time": "2017-05-15T22:57:30.398000"
    }
   },
   "outputs": [
    {
     "name": "stderr",
     "output_type": "stream",
     "text": [
      "100% |########################################################################|\n"
     ]
    }
   ],
   "source": [
    "# progressbar visualization widget to estimate processing time\n",
    "pbar = progressbar.ProgressBar()\n",
    "\n",
    "def aggregate_features(f):\n",
    "    return np.hstack([f.T.mean(axis=0), f.T.std(axis=0)])\n",
    "\n",
    "# iterate over all files of the collection\n",
    "for audio_filename in pbar(filenames):\n",
    "    \n",
    "    # 1. load audio\n",
    "    y, sr = librosa.core.load(audio_filename, sr=22050, mono=True)\n",
    "    # 2. extract features\n",
    "    # - 2.1. mfcc\n",
    "    # - 2.2. chroma\n",
    "    # -- 2.3. aggregate frame based mfcc and chroma vectors into single feature vectors\n",
    "    # - 2.4. ssd, rp\n",
    "    mfcc = librosa.feature.mfcc(y=y, sr=sr, n_mfcc=12, n_fft=1024, hop_length=512)\n",
    "    chroma = librosa.feature.chroma_stft(y=y, sr=sr, n_fft=1024, hop_length=512)\n",
    "    rp_features = rp_extract(y, \n",
    "                             sr, \n",
    "                             extract_ssd = True, \n",
    "                             extract_rp  = True,\n",
    "                             skip_leadin_fadeout = 0, \n",
    "                             verbose     = False)\n",
    "        \n",
    "    # 3. append to provided lists\n",
    "    audio_features[\"mfcc\"].append(aggregate_features(mfcc))\n",
    "    audio_features[\"chroma\"].append(aggregate_features(chroma))\n",
    "    \n",
    "    audio_features[\"ssd\"].append(rp_features['ssd'])\n",
    "    audio_features[\"rp\"].append(rp_features['rp'])\n",
    "\n",
    "# 4. convert lists of vectors to numpy arrays\n",
    "for k, v in audio_features.items():\n",
    "    audio_features[k] = np.asarray(v)\n",
    "      \n",
    "#  save extracted features\n",
    "np.save('features.npy', audio_features)"
   ]
  },
  {
   "cell_type": "markdown",
   "metadata": {},
   "source": [
    "# Music Classification\n",
    "\n",
    "Music Genre Recognition is a well researched Music Information Retrieval task. As for many other audio-based MIR tasks the algorithmic design consists of two parts. First, audio-content descriptors are extracted from the audio signal. In a second step these features are used to train machine learning based models, using popular supervised classifiers including k-nearest neighbors (k-NN), Gaussian mixture models (GMM) or Support Vector Machines (SVM)."
   ]
  },
  {
   "cell_type": "markdown",
   "metadata": {},
   "source": [
    "## Data-preprocessing\n",
    "\n",
    "The ground-truth labels are provided using their class names, in our case they are names of music genres, and thus are string values. The applied machine-learning algorithms expect numerical class labels. Thus, you are required to pre-process your data:\n",
    "\n",
    " * use sklearn's *LabelEncoder* to convert string- into numeric-labels\n",
    " * fit the encoder on the provided genre labels\n",
    " * create a list called *encoded_labels* using the *transform* method of the encoder"
   ]
  },
  {
   "cell_type": "code",
   "execution_count": 7,
   "metadata": {
    "ExecuteTime": {
     "end_time": "2017-05-15T23:40:57.709000",
     "start_time": "2017-05-15T23:40:57.706000"
    }
   },
   "outputs": [],
   "source": [
    "# add your code here\n",
    "label_encoder = LabelEncoder()\n",
    "label_encoder.fit(labels)\n",
    "\n",
    "encoded_labels = label_encoder.transform(labels)"
   ]
  },
  {
   "cell_type": "markdown",
   "metadata": {},
   "source": [
    "## Classification Experiments\n",
    "\n",
    "Iterate over all feature-sets. For each previously extracted feature perform the following steps:\n",
    "\n",
    "1. A common way to evaluate the performance of a machine learning approach is to perform a cross-validation. For this exercise you will be using a stratified K-Fold cross-validation. A K-Fold cross-validation splits the data-set into K equally-sized parts and uses K-1 parts to train the classifier and the remaining part to test it. The stratification asserts that the frequency distribution of the class labels within the folds corresponds to the original distribution of the ground-truth assignment. As a first step create a shuffled *StratifiedKFold* cross-validation object which generated 10 *splits* (10-fold cross-validation).<br><br>\n",
    "\n",
    "2. For each train/test-split apply the following commands:\n",
    "\n",
    "    2.1. Pre-process the feature-space: audio features are usually abstract content descriptors and have varying value ranges. Many machine learning algorithms expect all features to have the same value ranges. Thus, varying ranges will have a bias towards features with high value ranges. You will use Zero-Mean Unit-Variance Normalization - also referred to as Z-Score normalization or standardization, which subtracts the mean value from each feature and divides it by its variance. An important fact to note here, is that the parameters of the scaler are part of the trained classification model. They have to be assessed from the training-split, because the test-split is supposed to be unseen data. Use the sklearn *StandardScaler* and process the feature-data similar to the *LabelEncoder* by fitting the scaler using only the training-instances. After fitting the scaler transform the feature vectors of the training-split (but do not overwrite the original features!).<br>\n",
    "    2.2. You will use the Support Vector Machine (SVM) classifier to train a model for automatic genre prediction. The sklearn recently made some efforts to standardize their APIs. Thus, also the SVM classifier adheres to the same pattern. First, create a *LinearSVC* classifier using its default parameters. Then, train the SVM using the *fit* method by supplying the train-split of the feature vecotrs and the ground-truth labels.<br>\n",
    "    2.3. similar to 2.1. standardize the test-split using the already fitted scaler.<br>\n",
    "    2.4. use the fitted SVM to predict the scaled test-split feature vectors using its *predict* method.<br>\n",
    "    2.5. for each fold, store the true and predicted numeric labels.<br><br>\n",
    "    \n",
    "3. for each feature-set, store the true and predicted labels of the evaluation back to the provided dictionary.\n"
   ]
  },
  {
   "cell_type": "code",
   "execution_count": 8,
   "metadata": {},
   "outputs": [],
   "source": [
    "# load serialized audio features\n",
    "audio_features = np.load('features.npy').item()"
   ]
  },
  {
   "cell_type": "code",
   "execution_count": 9,
   "metadata": {},
   "outputs": [
    {
     "name": "stderr",
     "output_type": "stream",
     "text": [
      "chroma: 100%|####################################################|Time: 0:02:17\n"
     ]
    }
   ],
   "source": [
    "# fill this dictionary with values\n",
    "classification_results = {}\n",
    "\n",
    "num_splits = 10\n",
    "num_steps = num_splits * len(audio_features.keys())\n",
    "\n",
    "current_step = 0\n",
    "\n",
    "widgets = [progressbar.FormatLabel(''), progressbar.Percentage(), progressbar.Bar(), progressbar.ETA()]\n",
    "pbar = progressbar.ProgressBar(maxval=num_steps, widgets=widgets).start()\n",
    "\n",
    "for feature_name in audio_features.keys():\n",
    "    \n",
    "    # 1. crossvalidation\n",
    "    skf = StratifiedKFold(n_splits=num_splits)\n",
    "    \n",
    "    X = audio_features[feature_name]\n",
    "    y = encoded_labels\n",
    "    \n",
    "    y_true = []\n",
    "    y_pred = []\n",
    "    \n",
    "    widgets[0] = progressbar.FormatLabel('{}: '.format(feature_name))\n",
    "    pbar.update(current_step)\n",
    "    \n",
    "    # 2. run cross-validation\n",
    "    for train_index, test_index in skf.split(X, y):\n",
    "        # --- TRAIN ---\n",
    "        X_train, X_test = X[train_index], X[test_index]\n",
    "        y_train, y_test = y[train_index], y[test_index]\n",
    "\n",
    "        # 2.1. fit scaler\n",
    "        # scale training-partition of features\n",
    "        scaler = StandardScaler()\n",
    "        X_train_scaled = scaler.fit_transform(X_train)\n",
    "        \n",
    "        # 2.2. create classifier\n",
    "        classifier = LinearSVC()\n",
    "        \n",
    "        # fit classifier with scaled training-set\n",
    "        classifier.fit(X_train_scaled, y_train)\n",
    "        \n",
    "        # --- TEST ---\n",
    "        \n",
    "        # 2.3. scale test-partition of features\n",
    "        X_test_scaled = scaler.transform(X_test)\n",
    "                                   \n",
    "        # 2.4. use fitted classifier to predict labels of test-partition\n",
    "        predictions = classifier.predict(X_test_scaled)\n",
    "        \n",
    "        # 2.5. store the true and predicted labels\n",
    "        y_true.extend(y_test)\n",
    "        y_pred.extend(predictions)\n",
    "        \n",
    "        current_step += 1\n",
    "        pbar.update(current_step)\n",
    "        \n",
    "    # 3. store the classification results back to the dictionary\n",
    "    classification_results[feature_name] = [y_true, y_pred]\n",
    "    \n",
    "pbar.finish()\n",
    "\n",
    "# save classifications\n",
    "np.save('classifications.npy', classification_results)"
   ]
  },
  {
   "cell_type": "markdown",
   "metadata": {},
   "source": [
    "**Plot the classification result table**\n",
    "\n",
    "If you have supplied the results in the requested format, you should be able to use our provided function to plot the classification results-table."
   ]
  },
  {
   "cell_type": "code",
   "execution_count": 10,
   "metadata": {},
   "outputs": [],
   "source": [
    "classification_results = np.load('classifications.npy').item()"
   ]
  },
  {
   "cell_type": "code",
   "execution_count": 11,
   "metadata": {},
   "outputs": [
    {
     "data": {
      "text/html": [
       "<table border=\"1\" class=\"dataframe\">\n",
       "  <thead>\n",
       "    <tr style=\"text-align: right;\">\n",
       "      <th>Featureset</th>\n",
       "      <th>Accuracy</th>\n",
       "      <th>Precision</th>\n",
       "      <th>Recall</th>\n",
       "      <th>F1-Score</th>\n",
       "    </tr>\n",
       "  </thead>\n",
       "  <tbody>\n",
       "    <tr>\n",
       "      <td>ssd</td>\n",
       "      <td>0.726</td>\n",
       "      <td>0.722204</td>\n",
       "      <td>0.726</td>\n",
       "      <td>0.723372</td>\n",
       "    </tr>\n",
       "    <tr>\n",
       "      <td>mfcc</td>\n",
       "      <td>0.621</td>\n",
       "      <td>0.606290</td>\n",
       "      <td>0.621</td>\n",
       "      <td>0.606108</td>\n",
       "    </tr>\n",
       "    <tr>\n",
       "      <td>rp</td>\n",
       "      <td>0.452</td>\n",
       "      <td>0.475787</td>\n",
       "      <td>0.452</td>\n",
       "      <td>0.447343</td>\n",
       "    </tr>\n",
       "    <tr>\n",
       "      <td>chroma</td>\n",
       "      <td>0.388</td>\n",
       "      <td>0.357147</td>\n",
       "      <td>0.388</td>\n",
       "      <td>0.353421</td>\n",
       "    </tr>\n",
       "  </tbody>\n",
       "</table>"
      ],
      "text/plain": [
       "<IPython.core.display.HTML object>"
      ]
     },
     "execution_count": 11,
     "metadata": {},
     "output_type": "execute_result"
    }
   ],
   "source": [
    "show_classification_results(classification_results)"
   ]
  },
  {
   "cell_type": "markdown",
   "metadata": {},
   "source": [
    "## Feature-set combinations\n",
    "\n",
    "Music is a complex concept which cannot be described easily by a single property. Music is not just rhythm or a certain timbre/sound. It is more a mixture of all of it. This also applies to music features. Different combinations of features perform better than others, but there is no rule of thumbs which ones. This has to be evaluated according the underlying dataset, the applied classifier, the normalization method, etc. All these parameters affect the performance of the classification model.\n",
    "\n",
    "For this exercise, extend the previously developed classification approach by a feature combination component. Because the dataset is small, it is feasable to evaluate all possible feature-set combinations. Execute to the following cell to calculate all combinations:"
   ]
  },
  {
   "cell_type": "code",
   "execution_count": 12,
   "metadata": {
    "ExecuteTime": {
     "end_time": "2017-05-15T23:33:19.391000",
     "start_time": "2017-05-15T23:33:19.316000"
    }
   },
   "outputs": [],
   "source": [
    "combinations = []\n",
    "\n",
    "for i in range(1,len(audio_features.keys())):\n",
    "    combinations.extend(itertools.combinations(audio_features.keys(), i))"
   ]
  },
  {
   "cell_type": "markdown",
   "metadata": {},
   "source": [
    "Combining features is also referred to as fusion and two common approaches, early fusion and late fusion, exist. You will be using an early fusion approach to extend the classification experiment. To do so, either copy and paste the code of the evaluation-loop into a new cell, or adapt the code of the existing cell:\n",
    "\n",
    "* in the for loop, change the iterable from *audio_features.keys()* to *combinations*. You are also adviced to change the variable name *feature_name* to reflect the circumstance that the variable contains now a list of feature names.\n",
    "* implement the early fusion approach. This is accomplished by appending one feature vector to the other to create a combined feature vector. This can be solved by combining the feature-spaces. Use the numpy function *concatenate* to concatenate the feature combinations along feature axis. This can be done before the cross-validation loop or within. \n",
    "* be sure to reset the *classification_results* dictionary before running the evaluation again."
   ]
  },
  {
   "cell_type": "code",
   "execution_count": 13,
   "metadata": {},
   "outputs": [
    {
     "name": "stderr",
     "output_type": "stream",
     "text": [
      "mfcc_rp_chroma: 100%|############################################|Time: 0:16:15\n"
     ]
    }
   ],
   "source": [
    "# fill this dictionary with values\n",
    "classification_results = {}\n",
    "\n",
    "num_splits = 10\n",
    "num_steps = num_splits * len(combinations)\n",
    "\n",
    "current_step = 0\n",
    "\n",
    "widgets = [progressbar.FormatLabel(''), progressbar.Percentage(), progressbar.Bar(), progressbar.ETA()]\n",
    "pbar = progressbar.ProgressBar(maxval=num_steps, widgets=widgets).start()\n",
    "\n",
    "for combination in combinations:    \n",
    "    combination_label = '_'.join(combination)\n",
    "    \n",
    "    # 1. crossvalidation\n",
    "    skf = StratifiedKFold(n_splits=num_splits)\n",
    "    \n",
    "    X = audio_features[combination[0]]\n",
    "    \n",
    "    for i in range(1, len(combination)):\n",
    "        X = np.hstack([X, audio_features[combination[i]]])\n",
    "    \n",
    "    y = encoded_labels\n",
    "    \n",
    "    y_true = []\n",
    "    y_pred = []\n",
    "    \n",
    "    widgets[0] = progressbar.FormatLabel('{}: '.format(combination_label))\n",
    "    pbar.update(current_step)\n",
    "    \n",
    "    # 2. run cross-validation\n",
    "    for train_index, test_index in skf.split(X, y):\n",
    "        # --- TRAIN ---\n",
    "        X_train, X_test = X[train_index], X[test_index]\n",
    "        y_train, y_test = y[train_index], y[test_index]\n",
    "\n",
    "        # 2.1. fit scaler\n",
    "        # scale training-partition of features\n",
    "        scaler = StandardScaler()\n",
    "        X_train_scaled = scaler.fit_transform(X_train)\n",
    "        \n",
    "        # 2.2. create classifier\n",
    "        classifier = LinearSVC()\n",
    "        \n",
    "        # fit classifier with scaled training-set\n",
    "        classifier.fit(X_train_scaled, y_train)\n",
    "        \n",
    "        # --- TEST ---\n",
    "        \n",
    "        # 2.3. scale test-partition of features\n",
    "        X_test_scaled = scaler.transform(X_test)\n",
    "                                   \n",
    "        # 2.4. use fitted classifier to predict labels of test-partition\n",
    "        predictions = classifier.predict(X_test_scaled)\n",
    "        \n",
    "        # 2.5. store the true and predicted labels\n",
    "        y_true.extend(y_test)\n",
    "        y_pred.extend(predictions)\n",
    "        \n",
    "        current_step += 1\n",
    "        pbar.update(current_step)\n",
    "        \n",
    "    # 3. store the classification results back to the dictionary\n",
    "    classification_results[combination_label] = [y_true, y_pred]\n",
    "\n",
    "pbar.finish()\n",
    "\n",
    "# save classifications\n",
    "np.save('combination_classifications.npy', classification_results)"
   ]
  },
  {
   "cell_type": "markdown",
   "metadata": {},
   "source": [
    "**Plot the classification result table and confusion matrix**\n",
    "\n",
    "If you have supplied the results in the requested format, you should be able to use our provided function to plot the classification results-table and the confusion matrix. A confusion matrix is a convenient tool to assess class-level model performance. It shows which classes are mutually confused. This can help to tune the parameters of the model or to choose different features/combinations.\n",
    "\n",
    "To estimate the performance of the evaluated models:\n",
    "* plot four result tables and confusion matrices including the top-performing result.\n",
    "* write a paragraph where you summarize the conclusions of the classification experiments\n",
    "  * which feature-set/feature-set-combinations perform best?\n",
    "  * for which classes are they performing best?\n",
    "  * which classes are confused most?\n",
    "  * what does this tell about the audio features?"
   ]
  },
  {
   "cell_type": "code",
   "execution_count": 14,
   "metadata": {},
   "outputs": [],
   "source": [
    "classification_results = np.load('combination_classifications.npy').item()"
   ]
  },
  {
   "cell_type": "code",
   "execution_count": 15,
   "metadata": {},
   "outputs": [
    {
     "data": {
      "text/html": [
       "<table border=\"1\" class=\"dataframe\">\n",
       "  <thead>\n",
       "    <tr style=\"text-align: right;\">\n",
       "      <th>Featureset</th>\n",
       "      <th>Accuracy</th>\n",
       "      <th>Precision</th>\n",
       "      <th>Recall</th>\n",
       "      <th>F1-Score</th>\n",
       "    </tr>\n",
       "  </thead>\n",
       "  <tbody>\n",
       "    <tr>\n",
       "      <td>ssd_mfcc</td>\n",
       "      <td>0.736</td>\n",
       "      <td>0.732686</td>\n",
       "      <td>0.736</td>\n",
       "      <td>0.733135</td>\n",
       "    </tr>\n",
       "    <tr>\n",
       "      <td>ssd</td>\n",
       "      <td>0.727</td>\n",
       "      <td>0.722773</td>\n",
       "      <td>0.727</td>\n",
       "      <td>0.724054</td>\n",
       "    </tr>\n",
       "    <tr>\n",
       "      <td>ssd_mfcc_chroma</td>\n",
       "      <td>0.721</td>\n",
       "      <td>0.719300</td>\n",
       "      <td>0.721</td>\n",
       "      <td>0.719682</td>\n",
       "    </tr>\n",
       "    <tr>\n",
       "      <td>ssd_chroma</td>\n",
       "      <td>0.718</td>\n",
       "      <td>0.714339</td>\n",
       "      <td>0.718</td>\n",
       "      <td>0.715426</td>\n",
       "    </tr>\n",
       "    <tr>\n",
       "      <td>ssd_mfcc_rp</td>\n",
       "      <td>0.647</td>\n",
       "      <td>0.649855</td>\n",
       "      <td>0.647</td>\n",
       "      <td>0.642135</td>\n",
       "    </tr>\n",
       "    <tr>\n",
       "      <td>mfcc_chroma</td>\n",
       "      <td>0.637</td>\n",
       "      <td>0.625889</td>\n",
       "      <td>0.637</td>\n",
       "      <td>0.627585</td>\n",
       "    </tr>\n",
       "    <tr>\n",
       "      <td>mfcc</td>\n",
       "      <td>0.621</td>\n",
       "      <td>0.606174</td>\n",
       "      <td>0.621</td>\n",
       "      <td>0.606015</td>\n",
       "    </tr>\n",
       "    <tr>\n",
       "      <td>ssd_rp_chroma</td>\n",
       "      <td>0.621</td>\n",
       "      <td>0.626049</td>\n",
       "      <td>0.621</td>\n",
       "      <td>0.617728</td>\n",
       "    </tr>\n",
       "    <tr>\n",
       "      <td>mfcc_rp_chroma</td>\n",
       "      <td>0.613</td>\n",
       "      <td>0.618470</td>\n",
       "      <td>0.613</td>\n",
       "      <td>0.608671</td>\n",
       "    </tr>\n",
       "    <tr>\n",
       "      <td>ssd_rp</td>\n",
       "      <td>0.603</td>\n",
       "      <td>0.609068</td>\n",
       "      <td>0.603</td>\n",
       "      <td>0.598317</td>\n",
       "    </tr>\n",
       "    <tr>\n",
       "      <td>mfcc_rp</td>\n",
       "      <td>0.587</td>\n",
       "      <td>0.592031</td>\n",
       "      <td>0.587</td>\n",
       "      <td>0.581889</td>\n",
       "    </tr>\n",
       "    <tr>\n",
       "      <td>rp_chroma</td>\n",
       "      <td>0.518</td>\n",
       "      <td>0.530123</td>\n",
       "      <td>0.518</td>\n",
       "      <td>0.514054</td>\n",
       "    </tr>\n",
       "    <tr>\n",
       "      <td>rp</td>\n",
       "      <td>0.452</td>\n",
       "      <td>0.476233</td>\n",
       "      <td>0.452</td>\n",
       "      <td>0.447280</td>\n",
       "    </tr>\n",
       "    <tr>\n",
       "      <td>chroma</td>\n",
       "      <td>0.386</td>\n",
       "      <td>0.356314</td>\n",
       "      <td>0.386</td>\n",
       "      <td>0.352212</td>\n",
       "    </tr>\n",
       "  </tbody>\n",
       "</table>"
      ],
      "text/plain": [
       "<IPython.core.display.HTML object>"
      ]
     },
     "execution_count": 15,
     "metadata": {},
     "output_type": "execute_result"
    }
   ],
   "source": [
    "show_classification_results(classification_results)"
   ]
  },
  {
   "cell_type": "code",
   "execution_count": 16,
   "metadata": {
    "ExecuteTime": {
     "end_time": "2017-05-15T23:33:52.202000",
     "start_time": "2017-05-15T23:33:51.577000"
    },
    "scrolled": false
   },
   "outputs": [
    {
     "data": {
      "image/png": "[encoded data removed]",
      "text/plain": [
       "<Figure size 432x432 with 1 Axes>"
      ]
     },
     "metadata": {},
     "output_type": "display_data"
    },
    {
     "data": {
      "image/png": "[encoded data removed]",
      "text/plain": [
       "<Figure size 432x432 with 1 Axes>"
      ]
     },
     "metadata": {},
     "output_type": "display_data"
    },
    {
     "data": {
      "image/png": "[encoded data removed]",
      "text/plain": [
       "<Figure size 432x432 with 1 Axes>"
      ]
     },
     "metadata": {},
     "output_type": "display_data"
    },
    {
     "data": {
      "image/png": "[encoded data removed]",
      "text/plain": [
       "<Figure size 432x432 with 1 Axes>"
      ]
     },
     "metadata": {},
     "output_type": "display_data"
    }
   ],
   "source": [
    "plot_confusion_matrix(classification_results[\"ssd\"], label_encoder)\n",
    "plot_confusion_matrix(classification_results[\"ssd_mfcc\"], label_encoder)\n",
    "plot_confusion_matrix(classification_results[\"ssd_chroma\"], label_encoder)\n",
    "plot_confusion_matrix(classification_results[\"ssd_mfcc_chroma\"], label_encoder)"
   ]
  },
  {
   "cell_type": "markdown",
   "metadata": {},
   "source": [
    "### Conclusions\n",
    "\n",
    "The result table clearly shows that the ssd (Statistical Spectrum Descriptor) features are the most relevant ones for the genre classification task. MFCC and chroma seem to be relevant as well whereas the feature combinations containing Rhythm Patterns or Chroma Features are generally performing worse in comparison.\n",
    "\n",
    "Jazz, Classical music and Metal were the genres, which were most often correctly classified. Pop, Blues and Country usually achieved good results, though they were not as good as the results of the genres we mentionend before, in regards to correct classification. Reggae, Disco and Hip-Hop delivered more mediocre results, while Rock was by far the hardest genre to classify correctly. One reason for this could be that Rock has a lot of different influences and also influenced quite a lot of different genres (i.e. the lines can be quite blurry between the genres). Classical Music, Jazz and Metal on the other hand seem to have more distinct features from other genres (this seems also to hold up when we listen to music: For example Classical Music is usually instantly recognizable).\n",
    "\n",
    "Our initial intuition that rhythm should be the most discriminative feature for genre classification did not turn out to be true. To our surprise the most relevant feature (ssd) is related to the statistical properties of a track's loudness sensation which seems to be more than adequate to discern the different musical genres. The addition of MFCC features, which are useful for comparing the perceived similarity of two songs, further boost our classifier's accuracy.\n",
    "\n",
    "This means that rhythm isn't something that is specific to one genre. To the contrary rhythm patterns seem to be similar/common across different genres. Surprising however was that ssd performed so well, since it is a bit related to rhythm patterns and so we expected that the performance should be somewhat similar. This also means that ssd features are somewhat unique/specific to genres and allow to easily identify them.\n",
    "\n",
    "While chroma itself isn't that useful it performed quite well in conjunction with other (useful) features."
   ]
  },
  {
   "cell_type": "markdown",
   "metadata": {},
   "source": [
    "# Similarity Retrieval / Query by example\n",
    "\n",
    "The second part of the assignment focuses on retrieving similar songs to a given example. Content based music similarity can also be defined upon the numeric feature-space. Thus, you will use the extracted music features from the classification experiments, but now you will implement a late fusion approach. The problem with early fusion is that results will skew towards features-sets with higher dimensionality. Late fusion represents a convenient method to overcome this problem by combining the result-spaces instead of the feature-spaces. For each feature first the similarities are calculated separately and then aggregated into a final estimation. Thus, every feature has an equal influence on the final result."
   ]
  },
  {
   "cell_type": "markdown",
   "metadata": {},
   "source": [
    "**Normalization**\n",
    "\n",
    "Just like for the classification experiments the feature-spaces first need to be normalized. \n",
    "\n",
    "* iterate over all feature-sets\n",
    "* use the *StandardScaler* as above, but because there are no train/test-splits, fit the scaler using all instances of a feature-set, and finally perform the transformation\n",
    "* you can overwrite the extracted *audio_features*; their original values are not required further."
   ]
  },
  {
   "cell_type": "code",
   "execution_count": 17,
   "metadata": {
    "ExecuteTime": {
     "end_time": "2017-05-15T23:34:07.262000",
     "start_time": "2017-05-15T23:34:07.153000"
    }
   },
   "outputs": [],
   "source": [
    "# add your code here\n",
    "all_scaler = StandardScaler()\n",
    "\n",
    "# scale every single feature set over all instances\n",
    "for feature in audio_features:\n",
    "    X = audio_features[feature]\n",
    "    audio_features[feature] = all_scaler.fit_transform(X)"
   ]
  },
  {
   "cell_type": "markdown",
   "metadata": {},
   "source": [
    "**Implement a query-by-example system:**\n",
    "\n",
    "* define a *query_id* variable. This represents the index into the feature-space. The feature-vector with the corresponding id will be used to find similar songs.\n",
    "* define a list of feature-set names. This is equivalent to the feature combinations you have implemented for the classification experiments.\n",
    "* define a corresponding list of feature-weights. Usually weights scale from 0.0 to 1.0 and represent the influence of a feature-set on the final result.\n",
    "* for each feature-set of the specified feature-set combination:\n",
    "  * calculate the Eucledian-distance from the query-feature-vector to every other vector of a feature-set:\n",
    "\n",
    "$$\n",
    "\\sum \\sqrt{(audio\\_features[feature\\_name] - audio\\_features[feature\\_name][query\\_id])^{2}}\n",
    "$$\n",
    "\n",
    "  * this will result in a distance value for each feature-vector representing the dis-similarity to the query-vector.\n",
    "  * due to variances in dimensionality and value-ranges these distances vary between the feature-sets. To normalize the impact of a distinct feature-set in a late-fusion approach, you have to normalize each resulting distance-list by dividing it by its maximum value.\n",
    "  * multiply each normalized distance-list with its corresponding feature-weight\n",
    "  * calculate the sum of the weighted distance-lists\n",
    "  * finally, use apply numpy function *argsort* on the final results to get the indexes to the feature-vectors ranked by their ascending summed distances. Thus, the top results have the lowest distance/dis-similarity to the query-vector and are expected to sound similar to the query-song.\n",
    "  * use our provided method to display the retrieval results:\n",
    "  \n",
    "        show_query_results(filenames, labels, ranked_index)\n",
    "      \n",
    "The displayed result-table contains HTML5 audio player tags. Unfortunately, most Internet browsers have a security-lock to prevent Web-pages from referencing or accessing local files. \n",
    "\n",
    "* To enable the playback of the audio-files, open a command-prompt and change to the root directory of the provided dataset (*AUDIO_COLLECTION_PATH*). \n",
    "* start the Python simple web-server on port 5555. This will create a simple web-server which handles requests to the local files:\n",
    "\n",
    "        > python -m SimpleHTTPServer 5555\n",
    "        "
   ]
  },
  {
   "cell_type": "code",
   "execution_count": 18,
   "metadata": {
    "ExecuteTime": {
     "end_time": "2017-05-15T23:42:08.064000",
     "start_time": "2017-05-15T23:42:08.062000"
    }
   },
   "outputs": [],
   "source": [
    "# add your code here\n",
    "from math import sqrt\n",
    "from os.path import abspath\n",
    "\n",
    "feature_weight = {\n",
    "    'ssd_mfcc_chroma': [\n",
    "        {\n",
    "            'ssd': 1.0,\n",
    "            'mfcc': 1.0,\n",
    "            'chroma': 1.0\n",
    "        },\n",
    "        {\n",
    "            'ssd': 1.0,\n",
    "            'mfcc': 0.7,\n",
    "            'chroma': 0.4\n",
    "        },\n",
    "        {\n",
    "            'ssd': 0.7,\n",
    "            'mfcc': 1.0,\n",
    "            'chroma': 0.4\n",
    "        },\n",
    "        {\n",
    "            'ssd': 1.0,\n",
    "            'mfcc': 0.4,\n",
    "            'chroma': 0.7\n",
    "        },\n",
    "        {\n",
    "            'ssd': 0.7,\n",
    "            'mfcc': 0.4,\n",
    "            'chroma': 1.0\n",
    "        },\n",
    "        {\n",
    "            'ssd': 0.4,\n",
    "            'mfcc': 0.7,\n",
    "            'chroma': 1.0\n",
    "        }],\n",
    "    'ssd_mfcc': [\n",
    "        {\n",
    "            'ssd': 1.0,\n",
    "            'mfcc': 1.0\n",
    "        },\n",
    "        {\n",
    "            'ssd': 0.5,\n",
    "            'mfcc': 1.0\n",
    "        },\n",
    "        {\n",
    "            'ssd': 1.0,\n",
    "            'mfcc': 0.5\n",
    "        }],\n",
    "    'mfcc_rp_chroma': [\n",
    "        {\n",
    "            'rp': 1.0,\n",
    "            'mfcc': 1.0,\n",
    "            'chroma': 1.0\n",
    "        },\n",
    "        {\n",
    "            'rp': 1.0,\n",
    "            'mfcc': 0.7,\n",
    "            'chroma': 0.4\n",
    "        },\n",
    "        {\n",
    "            'rp': 0.7,\n",
    "            'mfcc': 1.0,\n",
    "            'chroma': 0.4\n",
    "        },\n",
    "        {\n",
    "            'rp': 1.0,\n",
    "            'mfcc': 0.4,\n",
    "            'chroma': 0.7\n",
    "        },\n",
    "        {\n",
    "            'rp': 0.7,\n",
    "            'mfcc': 0.4,\n",
    "            'chroma': 1.0\n",
    "        },\n",
    "        {\n",
    "            'rp': 0.4,\n",
    "            'mfcc': 0.7,\n",
    "            'chroma': 1.0\n",
    "        }],\n",
    "    'rp_chroma': [\n",
    "        {\n",
    "            'rp': 1.0,\n",
    "            'chroma': 1.0\n",
    "        },\n",
    "        {\n",
    "            'rp': 0.5,\n",
    "            'chroma': 1.0\n",
    "        },\n",
    "        {\n",
    "            'rp': 1.0,\n",
    "            'chroma': 0.5\n",
    "        }]\n",
    "}\n",
    "\n",
    "# subset of combinations from the previous task\n",
    "feature_combinations = [('ssd','mfcc','chroma'),('ssd','mfcc'),('mfcc','rp','chroma'),('rp','chroma')]\n",
    "\n",
    "\n",
    "# 250 -> jazz\n",
    "# 400 -> classical\n",
    "# 500 -> disco\n",
    "# 800 -> rock\n",
    "query_ids = {250: 'Jazz', 400: 'Classical Music', 500: 'Disco', 800: 'Rock'}\n",
    "\n",
    "# function to calculate the distance for a song over a certain single feature (e.g. 'ssd')\n",
    "def euclid_distances(query_id, feature_name):\n",
    "    id_vector = audio_features[feature_name][query_id]\n",
    "    \n",
    "    query_distances =[]\n",
    "    \n",
    "    # calculate distance to every vector in the feature-set\n",
    "    for vector in audio_features[feature_name]:\n",
    "        query_distance = (vector - id_vector)**2\n",
    "        query_distance = np.sum(query_distance)\n",
    "        query_distance = sqrt(query_distance)\n",
    "        query_distances.append(query_distance)\n",
    "    \n",
    "    #normalize by max distance\n",
    "    query_distances = np.array(query_distances)\n",
    "    query_distances = np.divide(query_distances, np.max(query_distances))\n",
    "    \n",
    "    return query_distances\n",
    "\n",
    "# function to execute the query for a song over a combination of features (e.g. ['ssd', 'mfcc']) with certain weights\n",
    "def query_songs(query_id, names, weights):\n",
    "    queries = []\n",
    "    \n",
    "    for name in names:\n",
    "        distances = euclid_distances(query_id, name)\n",
    "        # apply weighting according to the feature\n",
    "        distances = distances * weights[name]\n",
    "        queries.append(distances)\n",
    "    \n",
    "    queries = np.array(queries)\n",
    "    # sum the distances for every song\n",
    "    queries = np.sum(queries, axis=0)\n",
    "    queries = np.argsort(queries)\n",
    "    # the best song will always be the song itself -> this means the first result is either ignored or you have to remember that the first element is the song itself\n",
    "    return queries\n",
    "\n",
    "abs_filenames = []\n",
    "\n",
    "for filepath in filenames:\n",
    "    abs_filenames.append(abspath(filepath))\n",
    "\n",
    "# this is for playing the mp3s -> probably remove it before submission\n",
    "# abs_filenames = []\n",
    "\n",
    "# for filepath in glob.glob(\"./data/converted/genres\" + '/**/*.mp3'):\n",
    "#     abs_filenames.append(abspath(filepath))\n",
    "\n",
    "# nested dictionary with the following form:\n",
    "# { 'feature_comb1': {'genre1': [(result1, weight1), ...], ...},\n",
    "#    'feature_comb2': etc...}\n",
    "query_results = {}\n",
    "\n",
    "# get all results from our chosen combinations, weights and genre songs...\n",
    "for f_set_comb in feature_combinations:\n",
    "    comb = '_'.join(f_set_comb)\n",
    "    ws = feature_weight[comb]\n",
    "    genre_results = {}\n",
    "    for q_id in query_ids:\n",
    "        results = []\n",
    "        for w in ws:\n",
    "            result = query_songs(q_id, f_set_comb, w)\n",
    "            results.append((result,w))\n",
    "        genre_results[query_ids[q_id]] = results\n",
    "    query_results[comb] = genre_results"
   ]
  },
  {
   "cell_type": "code",
   "execution_count": 19,
   "metadata": {},
   "outputs": [
    {
     "data": {
      "text/html": [
       "<table border=\"1\" class=\"dataframe\">\n",
       "  <thead>\n",
       "    <tr style=\"text-align: right;\">\n",
       "      <th>rank</th>\n",
       "      <th>index</th>\n",
       "      <th>filename</th>\n",
       "      <th>label</th>\n",
       "      <th>audio</th>\n",
       "    </tr>\n",
       "  </thead>\n",
       "  <tbody>\n",
       "    <tr>\n",
       "      <td>0</td>\n",
       "      <td>400</td>\n",
       "      <td>/home/marc/Development/Uni/air-mir/air_assign2_musicir/data/genres/pop/pop.00000.au</td>\n",
       "      <td>pop</td>\n",
       "      <td><audio src=\"http://127.0.0.1:5555/pop/pop.00000.au\" type=\"audio/mpeg\" controls></td>\n",
       "    </tr>\n",
       "    <tr>\n",
       "      <td>1</td>\n",
       "      <td>402</td>\n",
       "      <td>/home/marc/Development/Uni/air-mir/air_assign2_musicir/data/genres/pop/pop.00099.au</td>\n",
       "      <td>pop</td>\n",
       "      <td><audio src=\"http://127.0.0.1:5555/pop/pop.00099.au\" type=\"audio/mpeg\" controls></td>\n",
       "    </tr>\n",
       "    <tr>\n",
       "      <td>2</td>\n",
       "      <td>473</td>\n",
       "      <td>/home/marc/Development/Uni/air-mir/air_assign2_musicir/data/genres/pop/pop.00075.au</td>\n",
       "      <td>pop</td>\n",
       "      <td><audio src=\"http://127.0.0.1:5555/pop/pop.00075.au\" type=\"audio/mpeg\" controls></td>\n",
       "    </tr>\n",
       "    <tr>\n",
       "      <td>3</td>\n",
       "      <td>480</td>\n",
       "      <td>/home/marc/Development/Uni/air-mir/air_assign2_musicir/data/genres/pop/pop.00071.au</td>\n",
       "      <td>pop</td>\n",
       "      <td><audio src=\"http://127.0.0.1:5555/pop/pop.00071.au\" type=\"audio/mpeg\" controls></td>\n",
       "    </tr>\n",
       "    <tr>\n",
       "      <td>4</td>\n",
       "      <td>430</td>\n",
       "      <td>/home/marc/Development/Uni/air-mir/air_assign2_musicir/data/genres/pop/pop.00067.au</td>\n",
       "      <td>pop</td>\n",
       "      <td><audio src=\"http://127.0.0.1:5555/pop/pop.00067.au\" type=\"audio/mpeg\" controls></td>\n",
       "    </tr>\n",
       "    <tr>\n",
       "      <td>5</td>\n",
       "      <td>412</td>\n",
       "      <td>/home/marc/Development/Uni/air-mir/air_assign2_musicir/data/genres/pop/pop.00032.au</td>\n",
       "      <td>pop</td>\n",
       "      <td><audio src=\"http://127.0.0.1:5555/pop/pop.00032.au\" type=\"audio/mpeg\" controls></td>\n",
       "    </tr>\n",
       "    <tr>\n",
       "      <td>6</td>\n",
       "      <td>890</td>\n",
       "      <td>/home/marc/Development/Uni/air-mir/air_assign2_musicir/data/genres/reggae/reggae.00052.au</td>\n",
       "      <td>reggae</td>\n",
       "      <td><audio src=\"http://127.0.0.1:5555/reggae/reggae.00052.au\" type=\"audio/mpeg\" controls></td>\n",
       "    </tr>\n",
       "    <tr>\n",
       "      <td>7</td>\n",
       "      <td>910</td>\n",
       "      <td>/home/marc/Development/Uni/air-mir/air_assign2_musicir/data/genres/disco/disco.00026.au</td>\n",
       "      <td>disco</td>\n",
       "      <td><audio src=\"http://127.0.0.1:5555/disco/disco.00026.au\" type=\"audio/mpeg\" controls></td>\n",
       "    </tr>\n",
       "    <tr>\n",
       "      <td>8</td>\n",
       "      <td>445</td>\n",
       "      <td>/home/marc/Development/Uni/air-mir/air_assign2_musicir/data/genres/pop/pop.00002.au</td>\n",
       "      <td>pop</td>\n",
       "      <td><audio src=\"http://127.0.0.1:5555/pop/pop.00002.au\" type=\"audio/mpeg\" controls></td>\n",
       "    </tr>\n",
       "    <tr>\n",
       "      <td>9</td>\n",
       "      <td>133</td>\n",
       "      <td>/home/marc/Development/Uni/air-mir/air_assign2_musicir/data/genres/hiphop/hiphop.00080.au</td>\n",
       "      <td>hiphop</td>\n",
       "      <td><audio src=\"http://127.0.0.1:5555/hiphop/hiphop.00080.au\" type=\"audio/mpeg\" controls></td>\n",
       "    </tr>\n",
       "    <tr>\n",
       "      <td>query</td>\n",
       "      <td>0</td>\n",
       "      <td>NaN</td>\n",
       "      <td>NaN</td>\n",
       "      <td>NaN</td>\n",
       "    </tr>\n",
       "  </tbody>\n",
       "</table>"
      ],
      "text/plain": [
       "<IPython.core.display.HTML object>"
      ]
     },
     "execution_count": 19,
     "metadata": {},
     "output_type": "execute_result"
    }
   ],
   "source": [
    "# example how the resulting dictionary can be used to show the results\n",
    "show_query_results(abs_filenames, labels, query_results['ssd_mfcc']['Classical Music'][2][0])"
   ]
  },
  {
   "cell_type": "markdown",
   "metadata": {},
   "source": [
    "* Experiment with different feature-set combinations and feature-weights using different query-songs.\n",
    "* show two good and two bad performing examples using the *show_query_results* function\n",
    "* write a paragraph where you summarize the conclusions of the query-by-example experiments\n",
    "  * which feature-sets are performing best and why?\n",
    "  * listening to the results, what is the perceived quality?\n",
    "    * in which terms do the top-ranked results sound similar\n",
    "    * are there songs that do not fit at all?\n",
    "    * do they at least share some acoustic similarity with the query-song (e.g. rhythm, instrumentation, pitch, etc.)?\n",
    "  * compare the query-by-example precision with the classification confusion-matrix for the corresponding feature-set-combination. Are the top confusions also predominant mismatches within the top-ranked retrieval results?"
   ]
  },
  {
   "cell_type": "markdown",
   "metadata": {},
   "source": [
    "### Conclusions\n",
    "\n",
    "For our experiments we decided to use a subset of the feature-set combinations from the previous task. We decided on 4 combinations, where 2 of them performed rather well (ssd_mfcc_chroma) (ssd_mfcc) and 2 performed quite bad (mfcc_rp_chroma) (rp_chroma). For this combinations we plotted the confusion matrices further below at the end. This decision was made, since we wanted to see, if a good/bad performance in the previous task implied how good the music retrieval works. We also queried with different songs. There we chose from 4 genres: Rock, Jazz, Classical, Disco. Since Classical and Jazz performed quite well in the previous task, Rock performed quite badly and Disco performed mediocre/above-average in the previous task we wanted to evaluate the genres with the same aspect. The evaluation was of course a bit subjective, since it often depends on the person how similar they rate some songs. For the weights we defined some combinations. For the weights it was decided that it made the most sense to use the weights as some sort of ordering (i.e. one Feature should always kind of dominate the other chosen features).\n",
    "\n",
    "The weights in general didn't have that much of an impact: Most of the time they delivered the same results but in a different order. Only if some weight are extreme (e.g. one feature has 1.0 and every other one has weight of <= 0.1) there are drastically different results. However this is not advisable, since the results got quite worse when \"extreme\" weights were used.\n",
    "\n",
    "From our point of view the choice of genre also played quite a big impace: Rock and Disco delivered worse songs than Classical and Jazz in general. Classical Music and Jazz had most of the time similar instrumentation and the pitch often also was similar enough. The \"evoked\" emotion/feelings (which is very subjective) were not always accurate, but that seems to be a much harder task of course. The rhythm was often quite different and also some songs often were more/less energetic than the delivered ones.\n",
    "\n",
    "We also observed with the Disco and Rock songs that the (sometimes totally) mismatched songs were quite similar to the observations in the confusion matrices (listed at the end). Jazz and Classical delivered for the most part songs from the same genre and were mostly fitting.\n",
    "\n",
    "For the most part the difference between the different feature set combinations didn't have that much of an impact as we expected. However as expected the combinations, that were bad in the part before also performed often quite worse than the good combinations from the task before (e.g. the disco delivered one times totally unfitting slow country songs). In General we thought that the ssd_mfcc_chroma combination performed the best and the rp_chroma combination the worst (with ssd_mfcc and mfcc_rp_chroma about the same). This might be that the ssd_mfcc_chroma combination carries important information in regards to our perception of music (ssd is a psychoacoustic feature for example). As we observed before rhythm is often shared across genre lines, which may result in retrieved songs that don't fit at all.\n",
    "\n",
    "Below we also have 2 examples of a good retrieval and 2 of a bad retrieval from our point of view. The bad retrieved songs often were totally different (from instrumentation to rhythm to melody, etc...)."
   ]
  },
  {
   "cell_type": "code",
   "execution_count": 20,
   "metadata": {},
   "outputs": [
    {
     "data": {
      "text/html": [
       "<table border=\"1\" class=\"dataframe\">\n",
       "  <thead>\n",
       "    <tr style=\"text-align: right;\">\n",
       "      <th>rank</th>\n",
       "      <th>index</th>\n",
       "      <th>filename</th>\n",
       "      <th>label</th>\n",
       "      <th>audio</th>\n",
       "    </tr>\n",
       "  </thead>\n",
       "  <tbody>\n",
       "    <tr>\n",
       "      <td>0</td>\n",
       "      <td>250</td>\n",
       "      <td>/home/marc/Development/Uni/air-mir/air_assign2_musicir/data/genres/blues/blues.00039.au</td>\n",
       "      <td>blues</td>\n",
       "      <td><audio src=\"http://127.0.0.1:5555/blues/blues.00039.au\" type=\"audio/mpeg\" controls></td>\n",
       "    </tr>\n",
       "    <tr>\n",
       "      <td>1</td>\n",
       "      <td>212</td>\n",
       "      <td>/home/marc/Development/Uni/air-mir/air_assign2_musicir/data/genres/blues/blues.00033.au</td>\n",
       "      <td>blues</td>\n",
       "      <td><audio src=\"http://127.0.0.1:5555/blues/blues.00033.au\" type=\"audio/mpeg\" controls></td>\n",
       "    </tr>\n",
       "    <tr>\n",
       "      <td>2</td>\n",
       "      <td>277</td>\n",
       "      <td>/home/marc/Development/Uni/air-mir/air_assign2_musicir/data/genres/blues/blues.00032.au</td>\n",
       "      <td>blues</td>\n",
       "      <td><audio src=\"http://127.0.0.1:5555/blues/blues.00032.au\" type=\"audio/mpeg\" controls></td>\n",
       "    </tr>\n",
       "    <tr>\n",
       "      <td>3</td>\n",
       "      <td>217</td>\n",
       "      <td>/home/marc/Development/Uni/air-mir/air_assign2_musicir/data/genres/blues/blues.00036.au</td>\n",
       "      <td>blues</td>\n",
       "      <td><audio src=\"http://127.0.0.1:5555/blues/blues.00036.au\" type=\"audio/mpeg\" controls></td>\n",
       "    </tr>\n",
       "    <tr>\n",
       "      <td>4</td>\n",
       "      <td>211</td>\n",
       "      <td>/home/marc/Development/Uni/air-mir/air_assign2_musicir/data/genres/blues/blues.00037.au</td>\n",
       "      <td>blues</td>\n",
       "      <td><audio src=\"http://127.0.0.1:5555/blues/blues.00037.au\" type=\"audio/mpeg\" controls></td>\n",
       "    </tr>\n",
       "    <tr>\n",
       "      <td>5</td>\n",
       "      <td>306</td>\n",
       "      <td>/home/marc/Development/Uni/air-mir/air_assign2_musicir/data/genres/country/country.00021.au</td>\n",
       "      <td>country</td>\n",
       "      <td><audio src=\"http://127.0.0.1:5555/country/country.00021.au\" type=\"audio/mpeg\" controls></td>\n",
       "    </tr>\n",
       "    <tr>\n",
       "      <td>6</td>\n",
       "      <td>346</td>\n",
       "      <td>/home/marc/Development/Uni/air-mir/air_assign2_musicir/data/genres/country/country.00023.au</td>\n",
       "      <td>country</td>\n",
       "      <td><audio src=\"http://127.0.0.1:5555/country/country.00023.au\" type=\"audio/mpeg\" controls></td>\n",
       "    </tr>\n",
       "    <tr>\n",
       "      <td>7</td>\n",
       "      <td>377</td>\n",
       "      <td>/home/marc/Development/Uni/air-mir/air_assign2_musicir/data/genres/country/country.00010.au</td>\n",
       "      <td>country</td>\n",
       "      <td><audio src=\"http://127.0.0.1:5555/country/country.00010.au\" type=\"audio/mpeg\" controls></td>\n",
       "    </tr>\n",
       "    <tr>\n",
       "      <td>8</td>\n",
       "      <td>299</td>\n",
       "      <td>/home/marc/Development/Uni/air-mir/air_assign2_musicir/data/genres/blues/blues.00030.au</td>\n",
       "      <td>blues</td>\n",
       "      <td><audio src=\"http://127.0.0.1:5555/blues/blues.00030.au\" type=\"audio/mpeg\" controls></td>\n",
       "    </tr>\n",
       "    <tr>\n",
       "      <td>9</td>\n",
       "      <td>577</td>\n",
       "      <td>/home/marc/Development/Uni/air-mir/air_assign2_musicir/data/genres/rock/rock.00085.au</td>\n",
       "      <td>rock</td>\n",
       "      <td><audio src=\"http://127.0.0.1:5555/rock/rock.00085.au\" type=\"audio/mpeg\" controls></td>\n",
       "    </tr>\n",
       "    <tr>\n",
       "      <td>query</td>\n",
       "      <td>0</td>\n",
       "      <td>NaN</td>\n",
       "      <td>NaN</td>\n",
       "      <td>NaN</td>\n",
       "    </tr>\n",
       "  </tbody>\n",
       "</table>"
      ],
      "text/plain": [
       "<IPython.core.display.HTML object>"
      ]
     },
     "execution_count": 20,
     "metadata": {},
     "output_type": "execute_result"
    }
   ],
   "source": [
    "# First Example of a good retrieval\n",
    "show_query_results(abs_filenames, labels, query_results['mfcc_rp_chroma']['Jazz'][0][0])"
   ]
  },
  {
   "cell_type": "code",
   "execution_count": 21,
   "metadata": {},
   "outputs": [
    {
     "data": {
      "text/html": [
       "<table border=\"1\" class=\"dataframe\">\n",
       "  <thead>\n",
       "    <tr style=\"text-align: right;\">\n",
       "      <th>rank</th>\n",
       "      <th>index</th>\n",
       "      <th>filename</th>\n",
       "      <th>label</th>\n",
       "      <th>audio</th>\n",
       "    </tr>\n",
       "  </thead>\n",
       "  <tbody>\n",
       "    <tr>\n",
       "      <td>0</td>\n",
       "      <td>400</td>\n",
       "      <td>/home/marc/Development/Uni/air-mir/air_assign2_musicir/data/genres/pop/pop.00000.au</td>\n",
       "      <td>pop</td>\n",
       "      <td><audio src=\"http://127.0.0.1:5555/pop/pop.00000.au\" type=\"audio/mpeg\" controls></td>\n",
       "    </tr>\n",
       "    <tr>\n",
       "      <td>1</td>\n",
       "      <td>402</td>\n",
       "      <td>/home/marc/Development/Uni/air-mir/air_assign2_musicir/data/genres/pop/pop.00099.au</td>\n",
       "      <td>pop</td>\n",
       "      <td><audio src=\"http://127.0.0.1:5555/pop/pop.00099.au\" type=\"audio/mpeg\" controls></td>\n",
       "    </tr>\n",
       "    <tr>\n",
       "      <td>2</td>\n",
       "      <td>473</td>\n",
       "      <td>/home/marc/Development/Uni/air-mir/air_assign2_musicir/data/genres/pop/pop.00075.au</td>\n",
       "      <td>pop</td>\n",
       "      <td><audio src=\"http://127.0.0.1:5555/pop/pop.00075.au\" type=\"audio/mpeg\" controls></td>\n",
       "    </tr>\n",
       "    <tr>\n",
       "      <td>3</td>\n",
       "      <td>480</td>\n",
       "      <td>/home/marc/Development/Uni/air-mir/air_assign2_musicir/data/genres/pop/pop.00071.au</td>\n",
       "      <td>pop</td>\n",
       "      <td><audio src=\"http://127.0.0.1:5555/pop/pop.00071.au\" type=\"audio/mpeg\" controls></td>\n",
       "    </tr>\n",
       "    <tr>\n",
       "      <td>4</td>\n",
       "      <td>430</td>\n",
       "      <td>/home/marc/Development/Uni/air-mir/air_assign2_musicir/data/genres/pop/pop.00067.au</td>\n",
       "      <td>pop</td>\n",
       "      <td><audio src=\"http://127.0.0.1:5555/pop/pop.00067.au\" type=\"audio/mpeg\" controls></td>\n",
       "    </tr>\n",
       "    <tr>\n",
       "      <td>5</td>\n",
       "      <td>412</td>\n",
       "      <td>/home/marc/Development/Uni/air-mir/air_assign2_musicir/data/genres/pop/pop.00032.au</td>\n",
       "      <td>pop</td>\n",
       "      <td><audio src=\"http://127.0.0.1:5555/pop/pop.00032.au\" type=\"audio/mpeg\" controls></td>\n",
       "    </tr>\n",
       "    <tr>\n",
       "      <td>6</td>\n",
       "      <td>890</td>\n",
       "      <td>/home/marc/Development/Uni/air-mir/air_assign2_musicir/data/genres/reggae/reggae.00052.au</td>\n",
       "      <td>reggae</td>\n",
       "      <td><audio src=\"http://127.0.0.1:5555/reggae/reggae.00052.au\" type=\"audio/mpeg\" controls></td>\n",
       "    </tr>\n",
       "    <tr>\n",
       "      <td>7</td>\n",
       "      <td>910</td>\n",
       "      <td>/home/marc/Development/Uni/air-mir/air_assign2_musicir/data/genres/disco/disco.00026.au</td>\n",
       "      <td>disco</td>\n",
       "      <td><audio src=\"http://127.0.0.1:5555/disco/disco.00026.au\" type=\"audio/mpeg\" controls></td>\n",
       "    </tr>\n",
       "    <tr>\n",
       "      <td>8</td>\n",
       "      <td>445</td>\n",
       "      <td>/home/marc/Development/Uni/air-mir/air_assign2_musicir/data/genres/pop/pop.00002.au</td>\n",
       "      <td>pop</td>\n",
       "      <td><audio src=\"http://127.0.0.1:5555/pop/pop.00002.au\" type=\"audio/mpeg\" controls></td>\n",
       "    </tr>\n",
       "    <tr>\n",
       "      <td>9</td>\n",
       "      <td>133</td>\n",
       "      <td>/home/marc/Development/Uni/air-mir/air_assign2_musicir/data/genres/hiphop/hiphop.00080.au</td>\n",
       "      <td>hiphop</td>\n",
       "      <td><audio src=\"http://127.0.0.1:5555/hiphop/hiphop.00080.au\" type=\"audio/mpeg\" controls></td>\n",
       "    </tr>\n",
       "    <tr>\n",
       "      <td>query</td>\n",
       "      <td>0</td>\n",
       "      <td>NaN</td>\n",
       "      <td>NaN</td>\n",
       "      <td>NaN</td>\n",
       "    </tr>\n",
       "  </tbody>\n",
       "</table>"
      ],
      "text/plain": [
       "<IPython.core.display.HTML object>"
      ]
     },
     "execution_count": 21,
     "metadata": {},
     "output_type": "execute_result"
    }
   ],
   "source": [
    "# Second Example of a good retrieval\n",
    "show_query_results(abs_filenames, labels, query_results['ssd_mfcc']['Classical Music'][2][0])"
   ]
  },
  {
   "cell_type": "code",
   "execution_count": 22,
   "metadata": {},
   "outputs": [
    {
     "data": {
      "text/html": [
       "<table border=\"1\" class=\"dataframe\">\n",
       "  <thead>\n",
       "    <tr style=\"text-align: right;\">\n",
       "      <th>rank</th>\n",
       "      <th>index</th>\n",
       "      <th>filename</th>\n",
       "      <th>label</th>\n",
       "      <th>audio</th>\n",
       "    </tr>\n",
       "  </thead>\n",
       "  <tbody>\n",
       "    <tr>\n",
       "      <td>0</td>\n",
       "      <td>500</td>\n",
       "      <td>/home/marc/Development/Uni/air-mir/air_assign2_musicir/data/genres/rock/rock.00055.au</td>\n",
       "      <td>rock</td>\n",
       "      <td><audio src=\"http://127.0.0.1:5555/rock/rock.00055.au\" type=\"audio/mpeg\" controls></td>\n",
       "    </tr>\n",
       "    <tr>\n",
       "      <td>1</td>\n",
       "      <td>572</td>\n",
       "      <td>/home/marc/Development/Uni/air-mir/air_assign2_musicir/data/genres/rock/rock.00037.au</td>\n",
       "      <td>rock</td>\n",
       "      <td><audio src=\"http://127.0.0.1:5555/rock/rock.00037.au\" type=\"audio/mpeg\" controls></td>\n",
       "    </tr>\n",
       "    <tr>\n",
       "      <td>2</td>\n",
       "      <td>375</td>\n",
       "      <td>/home/marc/Development/Uni/air-mir/air_assign2_musicir/data/genres/country/country.00018.au</td>\n",
       "      <td>country</td>\n",
       "      <td><audio src=\"http://127.0.0.1:5555/country/country.00018.au\" type=\"audio/mpeg\" controls></td>\n",
       "    </tr>\n",
       "    <tr>\n",
       "      <td>3</td>\n",
       "      <td>826</td>\n",
       "      <td>/home/marc/Development/Uni/air-mir/air_assign2_musicir/data/genres/reggae/reggae.00095.au</td>\n",
       "      <td>reggae</td>\n",
       "      <td><audio src=\"http://127.0.0.1:5555/reggae/reggae.00095.au\" type=\"audio/mpeg\" controls></td>\n",
       "    </tr>\n",
       "    <tr>\n",
       "      <td>4</td>\n",
       "      <td>966</td>\n",
       "      <td>/home/marc/Development/Uni/air-mir/air_assign2_musicir/data/genres/disco/disco.00036.au</td>\n",
       "      <td>disco</td>\n",
       "      <td><audio src=\"http://127.0.0.1:5555/disco/disco.00036.au\" type=\"audio/mpeg\" controls></td>\n",
       "    </tr>\n",
       "    <tr>\n",
       "      <td>5</td>\n",
       "      <td>562</td>\n",
       "      <td>/home/marc/Development/Uni/air-mir/air_assign2_musicir/data/genres/rock/rock.00042.au</td>\n",
       "      <td>rock</td>\n",
       "      <td><audio src=\"http://127.0.0.1:5555/rock/rock.00042.au\" type=\"audio/mpeg\" controls></td>\n",
       "    </tr>\n",
       "    <tr>\n",
       "      <td>6</td>\n",
       "      <td>526</td>\n",
       "      <td>/home/marc/Development/Uni/air-mir/air_assign2_musicir/data/genres/rock/rock.00060.au</td>\n",
       "      <td>rock</td>\n",
       "      <td><audio src=\"http://127.0.0.1:5555/rock/rock.00060.au\" type=\"audio/mpeg\" controls></td>\n",
       "    </tr>\n",
       "    <tr>\n",
       "      <td>7</td>\n",
       "      <td>595</td>\n",
       "      <td>/home/marc/Development/Uni/air-mir/air_assign2_musicir/data/genres/rock/rock.00029.au</td>\n",
       "      <td>rock</td>\n",
       "      <td><audio src=\"http://127.0.0.1:5555/rock/rock.00029.au\" type=\"audio/mpeg\" controls></td>\n",
       "    </tr>\n",
       "    <tr>\n",
       "      <td>8</td>\n",
       "      <td>791</td>\n",
       "      <td>/home/marc/Development/Uni/air-mir/air_assign2_musicir/data/genres/jazz/jazz.00064.au</td>\n",
       "      <td>jazz</td>\n",
       "      <td><audio src=\"http://127.0.0.1:5555/jazz/jazz.00064.au\" type=\"audio/mpeg\" controls></td>\n",
       "    </tr>\n",
       "    <tr>\n",
       "      <td>9</td>\n",
       "      <td>451</td>\n",
       "      <td>/home/marc/Development/Uni/air-mir/air_assign2_musicir/data/genres/pop/pop.00006.au</td>\n",
       "      <td>pop</td>\n",
       "      <td><audio src=\"http://127.0.0.1:5555/pop/pop.00006.au\" type=\"audio/mpeg\" controls></td>\n",
       "    </tr>\n",
       "    <tr>\n",
       "      <td>query</td>\n",
       "      <td>0</td>\n",
       "      <td>NaN</td>\n",
       "      <td>NaN</td>\n",
       "      <td>NaN</td>\n",
       "    </tr>\n",
       "  </tbody>\n",
       "</table>"
      ],
      "text/plain": [
       "<IPython.core.display.HTML object>"
      ]
     },
     "execution_count": 22,
     "metadata": {},
     "output_type": "execute_result"
    }
   ],
   "source": [
    "# First example of a bad retrieval\n",
    "show_query_results(abs_filenames, labels, query_results['ssd_mfcc_chroma']['Disco'][0][0])"
   ]
  },
  {
   "cell_type": "code",
   "execution_count": 23,
   "metadata": {},
   "outputs": [
    {
     "data": {
      "text/html": [
       "<table border=\"1\" class=\"dataframe\">\n",
       "  <thead>\n",
       "    <tr style=\"text-align: right;\">\n",
       "      <th>rank</th>\n",
       "      <th>index</th>\n",
       "      <th>filename</th>\n",
       "      <th>label</th>\n",
       "      <th>audio</th>\n",
       "    </tr>\n",
       "  </thead>\n",
       "  <tbody>\n",
       "    <tr>\n",
       "      <td>0</td>\n",
       "      <td>800</td>\n",
       "      <td>/home/marc/Development/Uni/air-mir/air_assign2_musicir/data/genres/reggae/reggae.00091.au</td>\n",
       "      <td>reggae</td>\n",
       "      <td><audio src=\"http://127.0.0.1:5555/reggae/reggae.00091.au\" type=\"audio/mpeg\" controls></td>\n",
       "    </tr>\n",
       "    <tr>\n",
       "      <td>1</td>\n",
       "      <td>842</td>\n",
       "      <td>/home/marc/Development/Uni/air-mir/air_assign2_musicir/data/genres/reggae/reggae.00092.au</td>\n",
       "      <td>reggae</td>\n",
       "      <td><audio src=\"http://127.0.0.1:5555/reggae/reggae.00092.au\" type=\"audio/mpeg\" controls></td>\n",
       "    </tr>\n",
       "    <tr>\n",
       "      <td>2</td>\n",
       "      <td>765</td>\n",
       "      <td>/home/marc/Development/Uni/air-mir/air_assign2_musicir/data/genres/jazz/jazz.00098.au</td>\n",
       "      <td>jazz</td>\n",
       "      <td><audio src=\"http://127.0.0.1:5555/jazz/jazz.00098.au\" type=\"audio/mpeg\" controls></td>\n",
       "    </tr>\n",
       "    <tr>\n",
       "      <td>3</td>\n",
       "      <td>750</td>\n",
       "      <td>/home/marc/Development/Uni/air-mir/air_assign2_musicir/data/genres/jazz/jazz.00008.au</td>\n",
       "      <td>jazz</td>\n",
       "      <td><audio src=\"http://127.0.0.1:5555/jazz/jazz.00008.au\" type=\"audio/mpeg\" controls></td>\n",
       "    </tr>\n",
       "    <tr>\n",
       "      <td>4</td>\n",
       "      <td>757</td>\n",
       "      <td>/home/marc/Development/Uni/air-mir/air_assign2_musicir/data/genres/jazz/jazz.00024.au</td>\n",
       "      <td>jazz</td>\n",
       "      <td><audio src=\"http://127.0.0.1:5555/jazz/jazz.00024.au\" type=\"audio/mpeg\" controls></td>\n",
       "    </tr>\n",
       "    <tr>\n",
       "      <td>5</td>\n",
       "      <td>351</td>\n",
       "      <td>/home/marc/Development/Uni/air-mir/air_assign2_musicir/data/genres/country/country.00025.au</td>\n",
       "      <td>country</td>\n",
       "      <td><audio src=\"http://127.0.0.1:5555/country/country.00025.au\" type=\"audio/mpeg\" controls></td>\n",
       "    </tr>\n",
       "    <tr>\n",
       "      <td>6</td>\n",
       "      <td>755</td>\n",
       "      <td>/home/marc/Development/Uni/air-mir/air_assign2_musicir/data/genres/jazz/jazz.00047.au</td>\n",
       "      <td>jazz</td>\n",
       "      <td><audio src=\"http://127.0.0.1:5555/jazz/jazz.00047.au\" type=\"audio/mpeg\" controls></td>\n",
       "    </tr>\n",
       "    <tr>\n",
       "      <td>7</td>\n",
       "      <td>352</td>\n",
       "      <td>/home/marc/Development/Uni/air-mir/air_assign2_musicir/data/genres/country/country.00089.au</td>\n",
       "      <td>country</td>\n",
       "      <td><audio src=\"http://127.0.0.1:5555/country/country.00089.au\" type=\"audio/mpeg\" controls></td>\n",
       "    </tr>\n",
       "    <tr>\n",
       "      <td>8</td>\n",
       "      <td>649</td>\n",
       "      <td>/home/marc/Development/Uni/air-mir/air_assign2_musicir/data/genres/metal/metal.00086.au</td>\n",
       "      <td>metal</td>\n",
       "      <td><audio src=\"http://127.0.0.1:5555/metal/metal.00086.au\" type=\"audio/mpeg\" controls></td>\n",
       "    </tr>\n",
       "    <tr>\n",
       "      <td>9</td>\n",
       "      <td>702</td>\n",
       "      <td>/home/marc/Development/Uni/air-mir/air_assign2_musicir/data/genres/jazz/jazz.00084.au</td>\n",
       "      <td>jazz</td>\n",
       "      <td><audio src=\"http://127.0.0.1:5555/jazz/jazz.00084.au\" type=\"audio/mpeg\" controls></td>\n",
       "    </tr>\n",
       "    <tr>\n",
       "      <td>query</td>\n",
       "      <td>0</td>\n",
       "      <td>NaN</td>\n",
       "      <td>NaN</td>\n",
       "      <td>NaN</td>\n",
       "    </tr>\n",
       "  </tbody>\n",
       "</table>"
      ],
      "text/plain": [
       "<IPython.core.display.HTML object>"
      ]
     },
     "execution_count": 23,
     "metadata": {},
     "output_type": "execute_result"
    }
   ],
   "source": [
    "# Second example of a bad retrieval\n",
    "show_query_results(abs_filenames, labels, query_results['rp_chroma']['Rock'][2][0])"
   ]
  },
  {
   "cell_type": "code",
   "execution_count": 24,
   "metadata": {},
   "outputs": [
    {
     "data": {
      "image/png": "[encoded data removed]",
      "text/plain": [
       "<Figure size 432x432 with 1 Axes>"
      ]
     },
     "metadata": {},
     "output_type": "display_data"
    },
    {
     "data": {
      "image/png": "[encoded data removed]",
      "text/plain": [
       "<Figure size 432x432 with 1 Axes>"
      ]
     },
     "metadata": {},
     "output_type": "display_data"
    },
    {
     "data": {
      "image/png": "[encoded data removed]",
      "text/plain": [
       "<Figure size 432x432 with 1 Axes>"
      ]
     },
     "metadata": {},
     "output_type": "display_data"
    },
    {
     "data": {
      "image/png": "[encoded data removed]",
      "text/plain": [
       "<Figure size 432x432 with 1 Axes>"
      ]
     },
     "metadata": {},
     "output_type": "display_data"
    }
   ],
   "source": [
    "plot_confusion_matrix(classification_results[\"ssd_mfcc\"], label_encoder)\n",
    "plot_confusion_matrix(classification_results[\"ssd_mfcc_chroma\"], label_encoder)\n",
    "plot_confusion_matrix(classification_results[\"mfcc_rp_chroma\"], label_encoder)\n",
    "plot_confusion_matrix(classification_results[\"rp_chroma\"], label_encoder)"
   ]
  }
 ],
 "metadata": {
  "kernelspec": {
   "display_name": "Python 2",
   "language": "python",
   "name": "python2"
  },
  "language_info": {
   "codemirror_mode": {
    "name": "ipython",
    "version": 2
   },
   "file_extension": ".py",
   "mimetype": "text/x-python",
   "name": "python",
   "nbconvert_exporter": "python",
   "pygments_lexer": "ipython2",
   "version": "2.7.15"
  },
  "toc": {
   "toc_cell": false,
   "toc_number_sections": false,
   "toc_section_display": "none",
   "toc_threshold": 6,
   "toc_window_display": true
  }
 },
 "nbformat": 4,
 "nbformat_minor": 2
}
